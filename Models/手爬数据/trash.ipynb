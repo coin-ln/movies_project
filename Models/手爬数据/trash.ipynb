{
 "cells": [
  {
   "cell_type": "code",
   "execution_count": 1,
   "metadata": {},
   "outputs": [],
   "source": [
    "import pandas as pd\n",
    "import numpy as np"
   ]
  },
  {
   "cell_type": "code",
   "execution_count": 2,
   "metadata": {},
   "outputs": [],
   "source": [
    "movie_name = '你好'\n",
    "year = 2024\n",
    "area = '中国/美国'\n",
    "main_genre = '剧情'\n",
    "genre = '剧情/喜剧'\n",
    "duration = 141\n",
    "director = '徐克'\n",
    "actors = '吴京/沈腾'"
   ]
  },
  {
   "cell_type": "code",
   "execution_count": 3,
   "metadata": {},
   "outputs": [],
   "source": [
    "# movie_name = str(input('电影名称:'))\n",
    "# year = int(input('年份:'))\n",
    "# area = str(input('国家地区:'))\n",
    "# main_genre = str(input('主要类型:'))\n",
    "# genre = str(input('电影类型:'))\n",
    "# duration = int(input('电影时长:'))\n",
    "# director = str(input('导演:'))\n",
    "# actors = str(input('演员:'))"
   ]
  },
  {
   "cell_type": "code",
   "execution_count": 4,
   "metadata": {},
   "outputs": [],
   "source": [
    "data ={\n",
    "    '电影名称':[movie_name],\n",
    "    '年份':[year],\n",
    "    '国家地区':[area],\n",
    "    '主类型':[main_genre],\n",
    "    '作品类型':[genre],\n",
    "    '片长':[duration],\n",
    "    '导演':[director],\n",
    "    '演员':[actors],\n",
    "}\n",
    "data = pd.DataFrame(data)"
   ]
  },
  {
   "cell_type": "code",
   "execution_count": 5,
   "metadata": {},
   "outputs": [],
   "source": [
    "genres_list = ['主旋律', '亲情', '传记', '公路', '冒险', '剧情', '动作', '动画', '励志', '历史', '友情', '古装', '喜剧', '奇幻', '家庭', '怀旧', '恐怖', '悬疑', '惊悚', '战争', '抢险', '探案', '文艺', '歌舞', '灾难', '爱情', '犯罪', '玄幻', '真人秀', '神话', '科幻', '穿越', '竞技', '综艺大电影', '职场', '警匪', '运动', '青春']\n",
    "areas_list = ['中国', '加拿大', '印度', '德国', '新西兰', '日本', '法国', '美国', '英国']\n",
    "top_actors = ['刘昊然', '吴京', '张涵予', '张译', '朱亚文', '杜江', '欧豪', '沈腾', '王宝强', '黄渤']\n",
    "top_directors = ['乔·罗素', '宁浩', '安东尼·罗素', '张艺谋', '徐克', '徐峥', '林超贤', '郭帆', '陈凯歌', '陈思诚']"
   ]
  },
  {
   "cell_type": "code",
   "execution_count": 6,
   "metadata": {},
   "outputs": [],
   "source": [
    "for genre in genres_list:\n",
    "    data['类型_'+genre] = data['作品类型'].apply(lambda x:1 if genre in x else 0)"
   ]
  },
  {
   "cell_type": "code",
   "execution_count": 7,
   "metadata": {},
   "outputs": [],
   "source": [
    "for area in areas_list:\n",
    "    data['国家地区_'+area] = data['国家地区'].apply(lambda x:1 if area in x else 0)"
   ]
  },
  {
   "cell_type": "code",
   "execution_count": 8,
   "metadata": {},
   "outputs": [],
   "source": [
    "for actor in top_actors:\n",
    "    data['演员_'+actor] = data['演员'].apply(lambda x:1 if actor in x else 0)"
   ]
  },
  {
   "cell_type": "code",
   "execution_count": 9,
   "metadata": {},
   "outputs": [],
   "source": [
    "for director in top_directors:\n",
    "    data['导演_'+director] = data['导演'].apply(lambda x:1 if director in x else 0)"
   ]
  },
  {
   "cell_type": "code",
   "execution_count": 10,
   "metadata": {},
   "outputs": [
    {
     "name": "stdout",
     "output_type": "stream",
     "text": [
      "<class 'pandas.core.frame.DataFrame'>\n",
      "RangeIndex: 1 entries, 0 to 0\n",
      "Data columns (total 75 columns):\n",
      " #   Column     Non-Null Count  Dtype \n",
      "---  ------     --------------  ----- \n",
      " 0   电影名称       1 non-null      object\n",
      " 1   年份         1 non-null      int64 \n",
      " 2   国家地区       1 non-null      object\n",
      " 3   主类型        1 non-null      object\n",
      " 4   作品类型       1 non-null      object\n",
      " 5   片长         1 non-null      int64 \n",
      " 6   导演         1 non-null      object\n",
      " 7   演员         1 non-null      object\n",
      " 8   类型_主旋律     1 non-null      int64 \n",
      " 9   类型_亲情      1 non-null      int64 \n",
      " 10  类型_传记      1 non-null      int64 \n",
      " 11  类型_公路      1 non-null      int64 \n",
      " 12  类型_冒险      1 non-null      int64 \n",
      " 13  类型_剧情      1 non-null      int64 \n",
      " 14  类型_动作      1 non-null      int64 \n",
      " 15  类型_动画      1 non-null      int64 \n",
      " 16  类型_励志      1 non-null      int64 \n",
      " 17  类型_历史      1 non-null      int64 \n",
      " 18  类型_友情      1 non-null      int64 \n",
      " 19  类型_古装      1 non-null      int64 \n",
      " 20  类型_喜剧      1 non-null      int64 \n",
      " 21  类型_奇幻      1 non-null      int64 \n",
      " 22  类型_家庭      1 non-null      int64 \n",
      " 23  类型_怀旧      1 non-null      int64 \n",
      " 24  类型_恐怖      1 non-null      int64 \n",
      " 25  类型_悬疑      1 non-null      int64 \n",
      " 26  类型_惊悚      1 non-null      int64 \n",
      " 27  类型_战争      1 non-null      int64 \n",
      " 28  类型_抢险      1 non-null      int64 \n",
      " 29  类型_探案      1 non-null      int64 \n",
      " 30  类型_文艺      1 non-null      int64 \n",
      " 31  类型_歌舞      1 non-null      int64 \n",
      " 32  类型_灾难      1 non-null      int64 \n",
      " 33  类型_爱情      1 non-null      int64 \n",
      " 34  类型_犯罪      1 non-null      int64 \n",
      " 35  类型_玄幻      1 non-null      int64 \n",
      " 36  类型_真人秀     1 non-null      int64 \n",
      " 37  类型_神话      1 non-null      int64 \n",
      " 38  类型_科幻      1 non-null      int64 \n",
      " 39  类型_穿越      1 non-null      int64 \n",
      " 40  类型_竞技      1 non-null      int64 \n",
      " 41  类型_综艺大电影   1 non-null      int64 \n",
      " 42  类型_职场      1 non-null      int64 \n",
      " 43  类型_警匪      1 non-null      int64 \n",
      " 44  类型_运动      1 non-null      int64 \n",
      " 45  类型_青春      1 non-null      int64 \n",
      " 46  国家地区_中国    1 non-null      int64 \n",
      " 47  国家地区_加拿大   1 non-null      int64 \n",
      " 48  国家地区_印度    1 non-null      int64 \n",
      " 49  国家地区_德国    1 non-null      int64 \n",
      " 50  国家地区_新西兰   1 non-null      int64 \n",
      " 51  国家地区_日本    1 non-null      int64 \n",
      " 52  国家地区_法国    1 non-null      int64 \n",
      " 53  国家地区_美国    1 non-null      int64 \n",
      " 54  国家地区_英国    1 non-null      int64 \n",
      " 55  演员_刘昊然     1 non-null      int64 \n",
      " 56  演员_吴京      1 non-null      int64 \n",
      " 57  演员_张涵予     1 non-null      int64 \n",
      " 58  演员_张译      1 non-null      int64 \n",
      " 59  演员_朱亚文     1 non-null      int64 \n",
      " 60  演员_杜江      1 non-null      int64 \n",
      " 61  演员_欧豪      1 non-null      int64 \n",
      " 62  演员_沈腾      1 non-null      int64 \n",
      " 63  演员_王宝强     1 non-null      int64 \n",
      " 64  演员_黄渤      1 non-null      int64 \n",
      " 65  导演_乔·罗素    1 non-null      int64 \n",
      " 66  导演_宁浩      1 non-null      int64 \n",
      " 67  导演_安东尼·罗素  1 non-null      int64 \n",
      " 68  导演_张艺谋     1 non-null      int64 \n",
      " 69  导演_徐克      1 non-null      int64 \n",
      " 70  导演_徐峥      1 non-null      int64 \n",
      " 71  导演_林超贤     1 non-null      int64 \n",
      " 72  导演_郭帆      1 non-null      int64 \n",
      " 73  导演_陈凯歌     1 non-null      int64 \n",
      " 74  导演_陈思诚     1 non-null      int64 \n",
      "dtypes: int64(69), object(6)\n",
      "memory usage: 728.0+ bytes\n"
     ]
    }
   ],
   "source": [
    "data.info()"
   ]
  },
  {
   "cell_type": "code",
   "execution_count": 11,
   "metadata": {},
   "outputs": [
    {
     "name": "stdout",
     "output_type": "stream",
     "text": [
      "<class 'pandas.core.frame.DataFrame'>\n",
      "RangeIndex: 1 entries, 0 to 0\n",
      "Data columns (total 68 columns):\n",
      " #   Column     Non-Null Count  Dtype  \n",
      "---  ------     --------------  -----  \n",
      " 0   片长         1 non-null      float64\n",
      " 1   类型_主旋律     1 non-null      float64\n",
      " 2   类型_亲情      1 non-null      float64\n",
      " 3   类型_传记      1 non-null      float64\n",
      " 4   类型_公路      1 non-null      float64\n",
      " 5   类型_冒险      1 non-null      float64\n",
      " 6   类型_剧情      1 non-null      float64\n",
      " 7   类型_动作      1 non-null      float64\n",
      " 8   类型_动画      1 non-null      float64\n",
      " 9   类型_励志      1 non-null      float64\n",
      " 10  类型_历史      1 non-null      float64\n",
      " 11  类型_友情      1 non-null      float64\n",
      " 12  类型_古装      1 non-null      float64\n",
      " 13  类型_喜剧      1 non-null      float64\n",
      " 14  类型_奇幻      1 non-null      float64\n",
      " 15  类型_家庭      1 non-null      float64\n",
      " 16  类型_怀旧      1 non-null      float64\n",
      " 17  类型_恐怖      1 non-null      float64\n",
      " 18  类型_悬疑      1 non-null      float64\n",
      " 19  类型_惊悚      1 non-null      float64\n",
      " 20  类型_战争      1 non-null      float64\n",
      " 21  类型_抢险      1 non-null      float64\n",
      " 22  类型_探案      1 non-null      float64\n",
      " 23  类型_文艺      1 non-null      float64\n",
      " 24  类型_歌舞      1 non-null      float64\n",
      " 25  类型_灾难      1 non-null      float64\n",
      " 26  类型_爱情      1 non-null      float64\n",
      " 27  类型_犯罪      1 non-null      float64\n",
      " 28  类型_玄幻      1 non-null      float64\n",
      " 29  类型_真人秀     1 non-null      float64\n",
      " 30  类型_神话      1 non-null      float64\n",
      " 31  类型_科幻      1 non-null      float64\n",
      " 32  类型_穿越      1 non-null      float64\n",
      " 33  类型_竞技      1 non-null      float64\n",
      " 34  类型_综艺大电影   1 non-null      float64\n",
      " 35  类型_职场      1 non-null      float64\n",
      " 36  类型_警匪      1 non-null      float64\n",
      " 37  类型_运动      1 non-null      float64\n",
      " 38  类型_青春      1 non-null      float64\n",
      " 39  国家地区_中国    1 non-null      float64\n",
      " 40  国家地区_加拿大   1 non-null      float64\n",
      " 41  国家地区_印度    1 non-null      float64\n",
      " 42  国家地区_德国    1 non-null      float64\n",
      " 43  国家地区_新西兰   1 non-null      float64\n",
      " 44  国家地区_日本    1 non-null      float64\n",
      " 45  国家地区_法国    1 non-null      float64\n",
      " 46  国家地区_美国    1 non-null      float64\n",
      " 47  国家地区_英国    1 non-null      float64\n",
      " 48  演员_刘昊然     1 non-null      float64\n",
      " 49  演员_吴京      1 non-null      float64\n",
      " 50  演员_张涵予     1 non-null      float64\n",
      " 51  演员_张译      1 non-null      float64\n",
      " 52  演员_朱亚文     1 non-null      float64\n",
      " 53  演员_杜江      1 non-null      float64\n",
      " 54  演员_欧豪      1 non-null      float64\n",
      " 55  演员_沈腾      1 non-null      float64\n",
      " 56  演员_王宝强     1 non-null      float64\n",
      " 57  演员_黄渤      1 non-null      float64\n",
      " 58  导演_乔·罗素    1 non-null      float64\n",
      " 59  导演_宁浩      1 non-null      float64\n",
      " 60  导演_安东尼·罗素  1 non-null      float64\n",
      " 61  导演_张艺谋     1 non-null      float64\n",
      " 62  导演_徐克      1 non-null      float64\n",
      " 63  导演_徐峥      1 non-null      float64\n",
      " 64  导演_林超贤     1 non-null      float64\n",
      " 65  导演_郭帆      1 non-null      float64\n",
      " 66  导演_陈凯歌     1 non-null      float64\n",
      " 67  导演_陈思诚     1 non-null      float64\n",
      "dtypes: float64(68)\n",
      "memory usage: 672.0 bytes\n"
     ]
    }
   ],
   "source": [
    "drop_columns = ['电影名称','年份','国家地区','主类型','作品类型','导演','演员']\n",
    "data = data.drop(columns=drop_columns)\n",
    "for item in data.columns:\n",
    "    data [item] = data[item].astype(float)\n",
    "data.info()"
   ]
  },
  {
   "cell_type": "code",
   "execution_count": 12,
   "metadata": {},
   "outputs": [],
   "source": [
    "import pickle\n",
    "with open(r'E:\\graduate\\movies_project\\Models\\box_predict\\ridge_model.pkl', 'rb') as f:\n",
    "    ridge_model = pickle.load(f)\n",
    "with open(r'E:\\graduate\\movies_project\\Models\\box_predict\\lasso_model.pkl','rb') as f:\n",
    "    lasso_model = pickle.load(f)\n"
   ]
  },
  {
   "cell_type": "code",
   "execution_count": 13,
   "metadata": {},
   "outputs": [],
   "source": [
    "y_predict_ridge = ridge_model.predict(data)\n",
    "y_predict_lasso = lasso_model.predict(data)"
   ]
  },
  {
   "cell_type": "code",
   "execution_count": 14,
   "metadata": {},
   "outputs": [
    {
     "data": {
      "text/plain": [
       "(338244.9179565487, 104910.74020292994)"
      ]
     },
     "execution_count": 14,
     "metadata": {},
     "output_type": "execute_result"
    }
   ],
   "source": [
    "box_ridge,box_lasso = np.expm1(y_predict_ridge),np.expm1(y_predict_lasso)\n",
    "box_ridge[0],box_lasso[0]"
   ]
  },
  {
   "cell_type": "code",
   "execution_count": null,
   "metadata": {},
   "outputs": [],
   "source": []
  }
 ],
 "metadata": {
  "kernelspec": {
   "display_name": "Python 3",
   "language": "python",
   "name": "python3"
  },
  "language_info": {
   "codemirror_mode": {
    "name": "ipython",
    "version": 3
   },
   "file_extension": ".py",
   "mimetype": "text/x-python",
   "name": "python",
   "nbconvert_exporter": "python",
   "pygments_lexer": "ipython3",
   "version": "3.8.10"
  }
 },
 "nbformat": 4,
 "nbformat_minor": 2
}

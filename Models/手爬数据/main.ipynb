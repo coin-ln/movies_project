{
 "cells": [
  {
   "cell_type": "code",
   "execution_count": 1,
   "metadata": {},
   "outputs": [
    {
     "data": {
      "text/html": [
       "<div>\n",
       "<style scoped>\n",
       "    .dataframe tbody tr th:only-of-type {\n",
       "        vertical-align: middle;\n",
       "    }\n",
       "\n",
       "    .dataframe tbody tr th {\n",
       "        vertical-align: top;\n",
       "    }\n",
       "\n",
       "    .dataframe thead th {\n",
       "        text-align: right;\n",
       "    }\n",
       "</style>\n",
       "<table border=\"1\" class=\"dataframe\">\n",
       "  <thead>\n",
       "    <tr style=\"text-align: right;\">\n",
       "      <th></th>\n",
       "      <th>Unnamed: 0</th>\n",
       "      <th>电影名称</th>\n",
       "      <th>年份</th>\n",
       "      <th>年度票房</th>\n",
       "      <th>国家地区</th>\n",
       "      <th>主类型</th>\n",
       "      <th>作品类型</th>\n",
       "      <th>片长</th>\n",
       "      <th>导演</th>\n",
       "      <th>演员</th>\n",
       "    </tr>\n",
       "  </thead>\n",
       "  <tbody>\n",
       "    <tr>\n",
       "      <th>0</th>\n",
       "      <td>0</td>\n",
       "      <td>007:大破天幕杀机</td>\n",
       "      <td>2013</td>\n",
       "      <td>37612.70</td>\n",
       "      <td>英国/美国</td>\n",
       "      <td>动作</td>\n",
       "      <td>动作/冒险/惊悚</td>\n",
       "      <td>143</td>\n",
       "      <td>萨姆·门德斯</td>\n",
       "      <td>丹尼尔·克雷格/拉尔夫·费因斯/哈维尔·巴登/玛吉·史密斯</td>\n",
       "    </tr>\n",
       "    <tr>\n",
       "      <th>1</th>\n",
       "      <td>1</td>\n",
       "      <td>X战警:天启</td>\n",
       "      <td>2016</td>\n",
       "      <td>80283.54</td>\n",
       "      <td>美国</td>\n",
       "      <td>动作</td>\n",
       "      <td>动作/科幻/冒险</td>\n",
       "      <td>143</td>\n",
       "      <td>布莱恩·辛格</td>\n",
       "      <td>迈克尔·法斯宾德/詹姆斯·麦卡沃伊/詹妮弗·劳伦斯/尼古拉斯·霍尔特</td>\n",
       "    </tr>\n",
       "    <tr>\n",
       "      <th>2</th>\n",
       "      <td>2</td>\n",
       "      <td>X战警:逆转未来</td>\n",
       "      <td>2014</td>\n",
       "      <td>72296.12</td>\n",
       "      <td>美国</td>\n",
       "      <td>科幻</td>\n",
       "      <td>科幻/动作/冒险</td>\n",
       "      <td>129</td>\n",
       "      <td>布莱恩·辛格</td>\n",
       "      <td>休·杰克曼/詹姆斯·麦卡沃伊/迈克尔·法斯宾德/詹妮弗·劳伦斯</td>\n",
       "    </tr>\n",
       "    <tr>\n",
       "      <th>3</th>\n",
       "      <td>3</td>\n",
       "      <td>—出好戏</td>\n",
       "      <td>2018</td>\n",
       "      <td>135504.77</td>\n",
       "      <td>中国</td>\n",
       "      <td>喜剧</td>\n",
       "      <td>喜剧</td>\n",
       "      <td>134</td>\n",
       "      <td>黄渤</td>\n",
       "      <td>黄渤/舒淇/王宝强/张艺兴</td>\n",
       "    </tr>\n",
       "    <tr>\n",
       "      <th>4</th>\n",
       "      <td>4</td>\n",
       "      <td>一九四二</td>\n",
       "      <td>2012</td>\n",
       "      <td>36994.02</td>\n",
       "      <td>中国</td>\n",
       "      <td>剧情</td>\n",
       "      <td>剧情/历史/战争</td>\n",
       "      <td>145</td>\n",
       "      <td>冯小刚/韩阳/左懿/顾海平</td>\n",
       "      <td>张国立/徐帆/陈道明/李雪健</td>\n",
       "    </tr>\n",
       "  </tbody>\n",
       "</table>\n",
       "</div>"
      ],
      "text/plain": [
       "   Unnamed: 0        电影名称    年份       年度票房   国家地区 主类型      作品类型   片长  \\\n",
       "0           0  007:大破天幕杀机  2013   37612.70  英国/美国  动作  动作/冒险/惊悚  143   \n",
       "1           1      X战警:天启  2016   80283.54     美国  动作  动作/科幻/冒险  143   \n",
       "2           2    X战警:逆转未来  2014   72296.12     美国  科幻  科幻/动作/冒险  129   \n",
       "3           3        —出好戏  2018  135504.77     中国  喜剧        喜剧  134   \n",
       "4           4        一九四二  2012   36994.02     中国  剧情  剧情/历史/战争  145   \n",
       "\n",
       "              导演                                  演员  \n",
       "0         萨姆·门德斯       丹尼尔·克雷格/拉尔夫·费因斯/哈维尔·巴登/玛吉·史密斯  \n",
       "1         布莱恩·辛格  迈克尔·法斯宾德/詹姆斯·麦卡沃伊/詹妮弗·劳伦斯/尼古拉斯·霍尔特  \n",
       "2         布莱恩·辛格     休·杰克曼/詹姆斯·麦卡沃伊/迈克尔·法斯宾德/詹妮弗·劳伦斯  \n",
       "3             黄渤                       黄渤/舒淇/王宝强/张艺兴  \n",
       "4  冯小刚/韩阳/左懿/顾海平                      张国立/徐帆/陈道明/李雪健  "
      ]
     },
     "execution_count": 1,
     "metadata": {},
     "output_type": "execute_result"
    }
   ],
   "source": [
    "import pandas as pd\n",
    "import numpy as np\n",
    "data = pd.read_csv(r'E:\\graduate\\movies_project\\Models\\手爬数据\\data_worked.csv')\n",
    "data ['年度票房'] = data['年度票房'].astype(float)\n",
    "data.head()\n"
   ]
  },
  {
   "cell_type": "code",
   "execution_count": 2,
   "metadata": {},
   "outputs": [],
   "source": [
    "list_of_genres = data['作品类型']\n",
    "\n",
    "# 使用列表推导式和集合来自动去重\n",
    "genres_list = list({genre for item in list_of_genres for genre in item.split('/')})\n",
    "genres_list.sort()\n",
    "for genre in genres_list:\n",
    "    data['类型_'+genre] = data['作品类型'].apply(lambda x:1 if genre in x else 0)\n"
   ]
  },
  {
   "cell_type": "code",
   "execution_count": 3,
   "metadata": {},
   "outputs": [],
   "source": [
    "list_of_areas = data['国家地区']\n",
    "\n",
    "# 使用列表推导式和集合来自动去重\n",
    "areas_list = list({area for item in list_of_areas for area in item.split('/')})\n",
    "areas_list.sort()\n",
    "for area in areas_list:\n",
    "    data['国家地区_'+area] = data['国家地区'].apply(lambda x:1 if area in x else 0)"
   ]
  },
  {
   "cell_type": "code",
   "execution_count": 4,
   "metadata": {},
   "outputs": [
    {
     "name": "stdout",
     "output_type": "stream",
     "text": [
      "['主旋律', '亲情', '传记', '公路', '冒险', '剧情', '动作', '动画', '励志', '历史', '友情', '古装', '喜剧', '奇幻', '家庭', '怀旧', '恐怖', '悬疑', '惊悚', '战争', '抢险', '探案', '文艺', '歌舞', '灾难', '爱情', '犯罪', '玄幻', '真人秀', '神话', '科幻', '穿越', '竞技', '综艺大电影', '职场', '警匪', '运动', '青春']\n",
      "['中国', '加拿大', '印度', '德国', '新西兰', '日本', '法国', '美国', '英国']\n"
     ]
    }
   ],
   "source": [
    "print(genres_list)\n",
    "print(areas_list)"
   ]
  },
  {
   "cell_type": "code",
   "execution_count": 5,
   "metadata": {},
   "outputs": [],
   "source": [
    "list_of_actors = data['演员']\n",
    "# 使用列表推导式和集合来自动去重\n",
    "actors_list = list({actor for item in list_of_actors for actor in item.split('/')})\n",
    "# 创建一个字典来存储每个导演的票房总和\n",
    "actor_total_revenue = {actor: 0 for actor in actors_list}\n",
    "for index, row in data.iterrows():\n",
    "    actors = row['演员']\n",
    "    revenue = row['年度票房']\n",
    "    if pd.notna(actors):  # 检查导演信息是否存在\n",
    "        for actor in actors.split('/'):\n",
    "            actor_total_revenue[actor] += revenue\n",
    "top_actors = sorted(actor_total_revenue.items(), key=lambda x: x[1], reverse=True)[:10]\n",
    "top_actors = [item[0] for item in top_actors]\n",
    "top_actors.sort()\n",
    "for actor in top_actors:\n",
    "    data['演员_'+actor] = data['演员'].apply(lambda x:1 if actor in x else 0)"
   ]
  },
  {
   "cell_type": "code",
   "execution_count": 6,
   "metadata": {},
   "outputs": [],
   "source": [
    "list_of_directors = data['导演']\n",
    "# 使用列表推导式和集合来自动去重\n",
    "directors_list = list({director for item in list_of_directors for director in item.split('/')})\n",
    "# 创建一个字典来存储每个导演的票房总和\n",
    "director_total_revenue = {director: 0 for director in directors_list}\n",
    "for index, row in data.iterrows():\n",
    "    directors = row['导演']\n",
    "    revenue = row['年度票房']\n",
    "    if pd.notna(directors):  # 检查导演信息是否存在\n",
    "        for director in directors.split('/'):\n",
    "            director_total_revenue[director] += revenue\n",
    "top_directors = sorted(director_total_revenue.items(), key=lambda x: x[1], reverse=True)[:10]\n",
    "top_directors = [item[0] for item in top_directors]\n",
    "top_directors.sort()\n",
    "for director in top_directors:\n",
    "    data['导演_'+director] = data['导演'].apply(lambda x:1 if director in x else 0)"
   ]
  },
  {
   "cell_type": "code",
   "execution_count": 7,
   "metadata": {},
   "outputs": [
    {
     "name": "stdout",
     "output_type": "stream",
     "text": [
      "['刘昊然', '吴京', '张涵予', '张译', '朱亚文', '杜江', '欧豪', '沈腾', '王宝强', '黄渤']\n",
      "['乔·罗素', '宁浩', '安东尼·罗素', '张艺谋', '徐克', '徐峥', '林超贤', '郭帆', '陈凯歌', '陈思诚']\n"
     ]
    }
   ],
   "source": [
    "print(top_actors)\n",
    "print(top_directors)"
   ]
  },
  {
   "cell_type": "code",
   "execution_count": 8,
   "metadata": {},
   "outputs": [
    {
     "data": {
      "text/plain": [
       "Index(['Unnamed: 0', '电影名称', '年份', '年度票房', '国家地区', '主类型', '作品类型', '片长', '导演',\n",
       "       '演员', '类型_主旋律', '类型_亲情', '类型_传记', '类型_公路', '类型_冒险', '类型_剧情', '类型_动作',\n",
       "       '类型_动画', '类型_励志', '类型_历史', '类型_友情', '类型_古装', '类型_喜剧', '类型_奇幻', '类型_家庭',\n",
       "       '类型_怀旧', '类型_恐怖', '类型_悬疑', '类型_惊悚', '类型_战争', '类型_抢险', '类型_探案', '类型_文艺',\n",
       "       '类型_歌舞', '类型_灾难', '类型_爱情', '类型_犯罪', '类型_玄幻', '类型_真人秀', '类型_神话', '类型_科幻',\n",
       "       '类型_穿越', '类型_竞技', '类型_综艺大电影', '类型_职场', '类型_警匪', '类型_运动', '类型_青春',\n",
       "       '国家地区_中国', '国家地区_加拿大', '国家地区_印度', '国家地区_德国', '国家地区_新西兰', '国家地区_日本',\n",
       "       '国家地区_法国', '国家地区_美国', '国家地区_英国', '演员_刘昊然', '演员_吴京', '演员_张涵予', '演员_张译',\n",
       "       '演员_朱亚文', '演员_杜江', '演员_欧豪', '演员_沈腾', '演员_王宝强', '演员_黄渤', '导演_乔·罗素',\n",
       "       '导演_宁浩', '导演_安东尼·罗素', '导演_张艺谋', '导演_徐克', '导演_徐峥', '导演_林超贤', '导演_郭帆',\n",
       "       '导演_陈凯歌', '导演_陈思诚'],\n",
       "      dtype='object')"
      ]
     },
     "execution_count": 8,
     "metadata": {},
     "output_type": "execute_result"
    }
   ],
   "source": [
    "data.columns"
   ]
  },
  {
   "cell_type": "code",
   "execution_count": 9,
   "metadata": {},
   "outputs": [
    {
     "name": "stdout",
     "output_type": "stream",
     "text": [
      "<class 'pandas.core.frame.DataFrame'>\n",
      "RangeIndex: 235 entries, 0 to 234\n",
      "Data columns (total 69 columns):\n",
      " #   Column     Non-Null Count  Dtype  \n",
      "---  ------     --------------  -----  \n",
      " 0   年度票房       235 non-null    float64\n",
      " 1   片长         235 non-null    float64\n",
      " 2   类型_主旋律     235 non-null    float64\n",
      " 3   类型_亲情      235 non-null    float64\n",
      " 4   类型_传记      235 non-null    float64\n",
      " 5   类型_公路      235 non-null    float64\n",
      " 6   类型_冒险      235 non-null    float64\n",
      " 7   类型_剧情      235 non-null    float64\n",
      " 8   类型_动作      235 non-null    float64\n",
      " 9   类型_动画      235 non-null    float64\n",
      " 10  类型_励志      235 non-null    float64\n",
      " 11  类型_历史      235 non-null    float64\n",
      " 12  类型_友情      235 non-null    float64\n",
      " 13  类型_古装      235 non-null    float64\n",
      " 14  类型_喜剧      235 non-null    float64\n",
      " 15  类型_奇幻      235 non-null    float64\n",
      " 16  类型_家庭      235 non-null    float64\n",
      " 17  类型_怀旧      235 non-null    float64\n",
      " 18  类型_恐怖      235 non-null    float64\n",
      " 19  类型_悬疑      235 non-null    float64\n",
      " 20  类型_惊悚      235 non-null    float64\n",
      " 21  类型_战争      235 non-null    float64\n",
      " 22  类型_抢险      235 non-null    float64\n",
      " 23  类型_探案      235 non-null    float64\n",
      " 24  类型_文艺      235 non-null    float64\n",
      " 25  类型_歌舞      235 non-null    float64\n",
      " 26  类型_灾难      235 non-null    float64\n",
      " 27  类型_爱情      235 non-null    float64\n",
      " 28  类型_犯罪      235 non-null    float64\n",
      " 29  类型_玄幻      235 non-null    float64\n",
      " 30  类型_真人秀     235 non-null    float64\n",
      " 31  类型_神话      235 non-null    float64\n",
      " 32  类型_科幻      235 non-null    float64\n",
      " 33  类型_穿越      235 non-null    float64\n",
      " 34  类型_竞技      235 non-null    float64\n",
      " 35  类型_综艺大电影   235 non-null    float64\n",
      " 36  类型_职场      235 non-null    float64\n",
      " 37  类型_警匪      235 non-null    float64\n",
      " 38  类型_运动      235 non-null    float64\n",
      " 39  类型_青春      235 non-null    float64\n",
      " 40  国家地区_中国    235 non-null    float64\n",
      " 41  国家地区_加拿大   235 non-null    float64\n",
      " 42  国家地区_印度    235 non-null    float64\n",
      " 43  国家地区_德国    235 non-null    float64\n",
      " 44  国家地区_新西兰   235 non-null    float64\n",
      " 45  国家地区_日本    235 non-null    float64\n",
      " 46  国家地区_法国    235 non-null    float64\n",
      " 47  国家地区_美国    235 non-null    float64\n",
      " 48  国家地区_英国    235 non-null    float64\n",
      " 49  演员_刘昊然     235 non-null    float64\n",
      " 50  演员_吴京      235 non-null    float64\n",
      " 51  演员_张涵予     235 non-null    float64\n",
      " 52  演员_张译      235 non-null    float64\n",
      " 53  演员_朱亚文     235 non-null    float64\n",
      " 54  演员_杜江      235 non-null    float64\n",
      " 55  演员_欧豪      235 non-null    float64\n",
      " 56  演员_沈腾      235 non-null    float64\n",
      " 57  演员_王宝强     235 non-null    float64\n",
      " 58  演员_黄渤      235 non-null    float64\n",
      " 59  导演_乔·罗素    235 non-null    float64\n",
      " 60  导演_宁浩      235 non-null    float64\n",
      " 61  导演_安东尼·罗素  235 non-null    float64\n",
      " 62  导演_张艺谋     235 non-null    float64\n",
      " 63  导演_徐克      235 non-null    float64\n",
      " 64  导演_徐峥      235 non-null    float64\n",
      " 65  导演_林超贤     235 non-null    float64\n",
      " 66  导演_郭帆      235 non-null    float64\n",
      " 67  导演_陈凯歌     235 non-null    float64\n",
      " 68  导演_陈思诚     235 non-null    float64\n",
      "dtypes: float64(69)\n",
      "memory usage: 126.8 KB\n"
     ]
    }
   ],
   "source": [
    "drop_columns = ['Unnamed: 0','电影名称','年份','国家地区','主类型','作品类型','导演','演员']\n",
    "data = data.drop(columns=drop_columns)\n",
    "for item in data.columns:\n",
    "    data [item] = data[item].astype(float)\n",
    "data.info()"
   ]
  },
  {
   "cell_type": "code",
   "execution_count": 10,
   "metadata": {},
   "outputs": [
    {
     "data": {
      "text/plain": [
       "Index(['片长', '类型_主旋律', '类型_亲情', '类型_传记', '类型_公路', '类型_冒险', '类型_剧情', '类型_动作',\n",
       "       '类型_动画', '类型_励志', '类型_历史', '类型_友情', '类型_古装', '类型_喜剧', '类型_奇幻', '类型_家庭',\n",
       "       '类型_怀旧', '类型_恐怖', '类型_悬疑', '类型_惊悚', '类型_战争', '类型_抢险', '类型_探案', '类型_文艺',\n",
       "       '类型_歌舞', '类型_灾难', '类型_爱情', '类型_犯罪', '类型_玄幻', '类型_真人秀', '类型_神话', '类型_科幻',\n",
       "       '类型_穿越', '类型_竞技', '类型_综艺大电影', '类型_职场', '类型_警匪', '类型_运动', '类型_青春',\n",
       "       '国家地区_中国', '国家地区_加拿大', '国家地区_印度', '国家地区_德国', '国家地区_新西兰', '国家地区_日本',\n",
       "       '国家地区_法国', '国家地区_美国', '国家地区_英国', '演员_刘昊然', '演员_吴京', '演员_张涵予', '演员_张译',\n",
       "       '演员_朱亚文', '演员_杜江', '演员_欧豪', '演员_沈腾', '演员_王宝强', '演员_黄渤', '导演_乔·罗素',\n",
       "       '导演_宁浩', '导演_安东尼·罗素', '导演_张艺谋', '导演_徐克', '导演_徐峥', '导演_林超贤', '导演_郭帆',\n",
       "       '导演_陈凯歌', '导演_陈思诚'],\n",
       "      dtype='object')"
      ]
     },
     "execution_count": 10,
     "metadata": {},
     "output_type": "execute_result"
    }
   ],
   "source": [
    "from sklearn.model_selection import train_test_split\n",
    "\n",
    "data_X = data.drop(['年度票房'], axis=1)\n",
    "data_y = np.log1p(data['年度票房'])\n",
    "train_X, test_X, train_y, test_y = train_test_split(\n",
    "    data_X, data_y.values, test_size=0.2)\n",
    "data_X.columns"
   ]
  },
  {
   "cell_type": "code",
   "execution_count": 11,
   "metadata": {},
   "outputs": [
    {
     "data": {
      "text/plain": [
       "0.5260796327034633"
      ]
     },
     "execution_count": 11,
     "metadata": {},
     "output_type": "execute_result"
    }
   ],
   "source": [
    "from sklearn.linear_model import Ridge\n",
    "from sklearn.metrics import mean_squared_error\n",
    "model = Ridge()\n",
    "model.fit(train_X, train_y)\n",
    "y_pred = model.predict(test_X)\n",
    "mean_squared_error(y_pred, test_y)"
   ]
  },
  {
   "cell_type": "code",
   "execution_count": 12,
   "metadata": {},
   "outputs": [],
   "source": [
    "import pickle\n",
    "with open(r'E:\\graduate\\movies_project\\Models\\box_predict\\ridge_model.pkl','wb') as f:\n",
    "    pickle.dump(model, f)\n",
    "with open(r'E:\\graduate\\movies_project\\Models\\box_predict\\ridge_model_mse.pkl','wb') as f:\n",
    "    pickle.dump(mean_squared_error(y_pred, test_y), f)"
   ]
  },
  {
   "cell_type": "code",
   "execution_count": 13,
   "metadata": {},
   "outputs": [
    {
     "data": {
      "text/plain": [
       "0.48379503417021474"
      ]
     },
     "execution_count": 13,
     "metadata": {},
     "output_type": "execute_result"
    }
   ],
   "source": [
    "from sklearn.linear_model import Lasso\n",
    "from sklearn.metrics import mean_squared_error\n",
    "model = Lasso()\n",
    "model.fit(train_X, train_y)  # 构建模型\n",
    "y_pred = model.predict(test_X)  # 训练模型\n",
    "mean_squared_error(y_pred, test_y)  # 预测模型\n",
    "#Lasso 回归的预测结果与真实值的均方差为 6 到 7 左右\n"
   ]
  },
  {
   "cell_type": "code",
   "execution_count": 14,
   "metadata": {},
   "outputs": [],
   "source": [
    "with open(r'E:\\graduate\\movies_project\\Models\\box_predict\\lasso_model.pkl','wb') as f:\n",
    "    pickle.dump(model, f)\n",
    "with open(r'E:\\graduate\\movies_project\\Models\\box_predict\\lasso_model_mse.pkl','wb') as f:\n",
    "    pickle.dump(mean_squared_error(y_pred,test_y), f)"
   ]
  },
  {
   "cell_type": "code",
   "execution_count": 15,
   "metadata": {},
   "outputs": [
    {
     "data": {
      "text/plain": [
       "0.8124278181042299"
      ]
     },
     "execution_count": 15,
     "metadata": {},
     "output_type": "execute_result"
    }
   ],
   "source": [
    "from sklearn.tree import DecisionTreeRegressor\n",
    "model = DecisionTreeRegressor()\n",
    "model.fit(train_X,train_y)\n",
    "y_pred = model.predict(test_X)  # 训练模型\n",
    "mean_squared_error(y_pred, test_y)  # 预测模型"
   ]
  },
  {
   "cell_type": "code",
   "execution_count": 16,
   "metadata": {},
   "outputs": [],
   "source": [
    "with open(r'E:\\graduate\\movies_project\\Models\\box_predict\\DecisionTree_model.pkl','wb') as f:\n",
    "    pickle.dump(model, f)\n",
    "with open(r'E:\\graduate\\movies_project\\Models\\box_predict\\DecisionTree_model_mse.pkl','wb') as f:\n",
    "    pickle.dump(mean_squared_error(y_pred,test_y), f)"
   ]
  },
  {
   "cell_type": "code",
   "execution_count": 17,
   "metadata": {},
   "outputs": [
    {
     "data": {
      "text/plain": [
       "0.481671025714271"
      ]
     },
     "execution_count": 17,
     "metadata": {},
     "output_type": "execute_result"
    }
   ],
   "source": [
    "from sklearn.ensemble import RandomForestRegressor\n",
    "model = RandomForestRegressor(n_estimators=100, random_state=42)\n",
    "model.fit(train_X,train_y)\n",
    "y_pred = model.predict(test_X)  # 训练模型\n",
    "mean_squared_error(y_pred, test_y)  # 预测模型"
   ]
  },
  {
   "cell_type": "code",
   "execution_count": 18,
   "metadata": {},
   "outputs": [],
   "source": [
    "with open(r'E:\\graduate\\movies_project\\Models\\box_predict\\RandomForest_model.pkl','wb') as f:\n",
    "    pickle.dump(model, f)\n",
    "with open(r'E:\\graduate\\movies_project\\Models\\box_predict\\RandomForest_model_mse.pkl','wb') as f:\n",
    "    pickle.dump(mean_squared_error(y_pred,test_y), f)"
   ]
  },
  {
   "cell_type": "code",
   "execution_count": null,
   "metadata": {},
   "outputs": [],
   "source": [
    "from sklearn.ensemble import GradientBoostingRegressor\n",
    "model = GradientBoostingRegressor(n_estimators=100, learning_rate=0.1, random_state=42)\n",
    "model.fit(train_X,train_y)\n",
    "y_pred = model.predict(test_X)  # 训练模型\n",
    "mean_squared_error(y_pred, test_y)  # 预测模型"
   ]
  },
  {
   "cell_type": "code",
   "execution_count": null,
   "metadata": {},
   "outputs": [],
   "source": [
    "with open(r'E:\\graduate\\movies_project\\Models\\box_predict\\GradientBoosting_model.pkl','wb') as f:\n",
    "    pickle.dump(model, f)\n",
    "with open(r'E:\\graduate\\movies_project\\Models\\box_predict\\GradientBoosting_model_mse.pkl','wb') as f:\n",
    "    pickle.dump(mean_squared_error(y_pred,test_y), f)"
   ]
  }
 ],
 "metadata": {
  "kernelspec": {
   "display_name": "Python 3",
   "language": "python",
   "name": "python3"
  },
  "language_info": {
   "codemirror_mode": {
    "name": "ipython",
    "version": 3
   },
   "file_extension": ".py",
   "mimetype": "text/x-python",
   "name": "python",
   "nbconvert_exporter": "python",
   "pygments_lexer": "ipython3",
   "version": "3.8.10"
  }
 },
 "nbformat": 4,
 "nbformat_minor": 2
}
